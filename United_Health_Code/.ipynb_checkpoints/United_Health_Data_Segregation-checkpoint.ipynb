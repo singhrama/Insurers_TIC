{
 "cells": [
  {
   "cell_type": "markdown",
   "id": "1ece3050-17e1-4492-9524-bb3d0c12ff35",
   "metadata": {},
   "source": [
    "# Process to Download Humana Files for Indiana (or other State) each Month.\n",
    "# Very Rough Draft Code, use with caution.\n",
    "### Richard Meraz (rfmeraz@iu.edu)"
   ]
  },
  {
   "cell_type": "code",
   "execution_count": 4,
   "id": "b25fab83",
   "metadata": {},
   "outputs": [],
   "source": [
    "#Import Libraries\n",
    "\n",
    "import itertools\n",
    "import json\n",
    "import pathlib\n",
    "from multiprocessing import Pool\n",
    "from urllib.parse import parse_qs, urlparse\n",
    "import os\n",
    "import duckdb\n",
    "import pandas \n",
    "import subprocess\n",
    "import pandas\n",
    "import io\n",
    "import tabula\n",
    "from matplotlib import pyplot\n",
    "import pandas as pd\n",
    "import glob\n",
    "from tqdm import tqdm"
   ]
  },
  {
   "cell_type": "code",
   "execution_count": 9,
   "id": "fa4ba44e",
   "metadata": {},
   "outputs": [
    {
     "data": {
      "text/plain": [
       "'E:\\\\data\\\\Insurance_Data\\\\Insurers_TIC\\\\Humana_Code'"
      ]
     },
     "execution_count": 9,
     "metadata": {},
     "output_type": "execute_result"
    }
   ],
   "source": [
    "os.getcwd()"
   ]
  },
  {
   "cell_type": "code",
   "execution_count": 7,
   "id": "761702ce",
   "metadata": {},
   "outputs": [
    {
     "name": "stdout",
     "output_type": "stream",
     "text": [
      "Collecting tabula\n",
      "  Downloading tabula-1.0.5.tar.gz (9.5 kB)\n",
      "Requirement already satisfied: setuptools in d:\\installation\\anaconda3\\lib\\site-packages (from tabula) (61.2.0)\n",
      "Requirement already satisfied: numpy in d:\\installation\\anaconda3\\lib\\site-packages (from tabula) (1.21.5)\n",
      "Building wheels for collected packages: tabula\n",
      "  Building wheel for tabula (setup.py): started\n",
      "  Building wheel for tabula (setup.py): finished with status 'done'\n",
      "  Created wheel for tabula: filename=tabula-1.0.5-py3-none-any.whl size=10601 sha256=8ac08457f8dea163b9f37ad4fa554e6d96d5d40f8384769ff8398ab5ca035407\n",
      "  Stored in directory: c:\\users\\singh\\appdata\\local\\pip\\cache\\wheels\\0c\\6b\\25\\f7f32d9ab1a2fdeeb40b83f50b19f8c42fbb76a189cdff8884\n",
      "Successfully built tabula\n",
      "Installing collected packages: tabula\n",
      "Successfully installed tabula-1.0.5\n"
     ]
    }
   ],
   "source": [
    "!pip install tabula"
   ]
  },
  {
   "cell_type": "code",
   "execution_count": 2,
   "id": "0ebcbaf1",
   "metadata": {},
   "outputs": [
    {
     "data": {
      "text/plain": [
       "'/geode2/home/u080/singrama/Carbonate/Documents/TIC/Richard_Exp'"
      ]
     },
     "execution_count": 2,
     "metadata": {},
     "output_type": "execute_result"
    }
   ],
   "source": [
    "#Set Working Directory\n",
    "\n",
    "os.chdir(\"/N/u/singrama/Carbonate/Documents/TIC/Richard_Exp\")\n",
    "os.getcwd()"
   ]
  },
  {
   "cell_type": "code",
   "execution_count": 13,
   "id": "667cdde1-ca8a-4243-9a5d-66d2c813be81",
   "metadata": {},
   "outputs": [],
   "source": [
    "#Function to Convert Column Names to Lowercase\n",
    "\n",
    "def qdf(con, sql):\n",
    "    \"\"\"Helper function to execute sql on pandas.DataFrames with duckdb\"\"\"\n",
    "    df = con.execute(sql).df()\n",
    "    df.columns = df.columns.str.lower()\n",
    "    return df\n",
    "\n",
    "con = duckdb.connect()"
   ]
  },
  {
   "cell_type": "code",
   "execution_count": null,
   "id": "87be32f5",
   "metadata": {},
   "outputs": [],
   "source": [
    "# Read in Company Reference Information to map to Employer's EINs\n",
    "\n",
    "def get_refdata():\n",
    "\n",
    "    # SEC public companies\n",
    "    sec_data = subprocess.run(\n",
    "        [\"cut\", \"-f3-8,20\", \"sec/sub.txt\"], capture_output=True, text=True\n",
    "    ).stdout\n",
    "    df_sec = pandas.read_csv(io.StringIO(sec_data), sep=\"\\t\", dtype=str)\n",
    "    df_sec.columns = [\"name\", \"sic\", \"country\", \"state\", \"city\", \"zip\", \"ein\"]\n",
    "\n",
    "    # IRS non-profits\n",
    "    df_irs = pandas.concat(\n",
    "        [\n",
    "            pandas.read_csv(f\"irs/eo{i}.csv\", usecols=[0, 1, 4, 5, 6], dtype=str)\n",
    "            for i in range(1, 4)\n",
    "        ]\n",
    "    )\n",
    "    df_irs.columns = df_irs.columns.str.lower()\n",
    "\n",
    "    # DOL Form 5500\n",
    "    df_dol = pandas.concat(\n",
    "        [\n",
    "            pandas.read_csv(\n",
    "                \"dol_5500/f_5500_2021_latest.csv\",\n",
    "                usecols=[18, 23, 24, 25, 43, 70],\n",
    "                dtype=str,\n",
    "                names=[\"name\", \"city\", \"state\", \"zip\", \"ein\", \"size\"],\n",
    "                header=0,\n",
    "            ),\n",
    "            pandas.read_csv(\n",
    "                \"dol_5500/f_5500_2020_latest.csv\",\n",
    "                usecols=[18, 23, 24, 25, 43, 70],\n",
    "                dtype=str,\n",
    "                names=[\"name\", \"city\", \"state\", \"zip\", \"ein\", \"size\"],\n",
    "                header=0,\n",
    "            ),\n",
    "            pandas.read_csv(\n",
    "                \"dol_5500/f_5500_2019_latest.csv\",\n",
    "                usecols=[18, 23, 24, 25, 43, 70],\n",
    "                dtype=str,\n",
    "                names=[\"name\", \"city\", \"state\", \"zip\", \"ein\", \"size\"],\n",
    "                header=0,\n",
    "            ),\n",
    "            pandas.read_csv(\n",
    "                \"dol_5500/f_5500_sf_2021_latest.csv\",\n",
    "                usecols=[16, 20, 21, 22, 29, 50],\n",
    "                dtype=str,\n",
    "                header=0,\n",
    "                names=[\"name\", \"city\", \"state\", \"zip\", \"ein\", \"size\"],\n",
    "            ),\n",
    "            pandas.read_csv(\n",
    "                \"dol_5500/f_5500_sf_2020_latest.csv\",\n",
    "                usecols=[16, 20, 21, 22, 29, 50],\n",
    "                dtype=str,\n",
    "                header=0,\n",
    "                names=[\"name\", \"city\", \"state\", \"zip\", \"ein\", \"size\"],\n",
    "            ),\n",
    "            pandas.read_csv(\n",
    "                \"dol_5500/f_5500_sf_2019_latest.csv\",\n",
    "                usecols=[16, 20, 21, 22, 29, 50],\n",
    "                dtype=str,\n",
    "                header=0,\n",
    "                names=[\"name\", \"city\", \"state\", \"zip\", \"ein\", \"size\"],\n",
    "            ),\n",
    "        ]\n",
    "    ).drop_duplicates(subset=\"ein\")\n",
    "    df_dol[\"size\"] = df_dol[\"size\"].astype(\"Int64\")\n",
    "\n",
    "    return df_sec, df_irs, df_dol"
   ]
  },
  {
   "cell_type": "code",
   "execution_count": 16,
   "id": "f998baa6-c2cb-4f0c-8672-4b4fd530409f",
   "metadata": {},
   "outputs": [],
   "source": [
    "#Seperate Dataframes for SEC public companies, IRS Non-Profit and DOL 5500\n",
    "df_sec, df_irs, df_dol = get_refdata()"
   ]
  },
  {
   "cell_type": "markdown",
   "id": "904f5d92-3a17-4bec-b8e4-3fa4fb8a8f48",
   "metadata": {},
   "source": [
    "## Get the list of all humana files. Run this code once each month to get the new list of index files."
   ]
  },
  {
   "cell_type": "code",
   "execution_count": 8,
   "id": "98c23b9f",
   "metadata": {},
   "outputs": [
    {
     "name": "stderr",
     "output_type": "stream",
     "text": [
      "curl: (3) URL using bad/illegal format or missing URL\n",
      "'iDisplayStart' is not recognized as an internal or external command,\n",
      "operable program or batch file.\n",
      "'iDisplayLength' is not recognized as an internal or external command,\n",
      "operable program or batch file.\n"
     ]
    }
   ],
   "source": [
    "# List of all the EINs in Humana\n",
    "! curl 'https://developers.humana.com/Resource/GetData?fileType=innetwork&iDisplayStart=1&iDisplayLength=500000' > humana_file_list.json"
   ]
  },
  {
   "cell_type": "code",
   "execution_count": 6,
   "id": "a60efea5-9ec3-4f1e-afc1-63fa0bc2e2a9",
   "metadata": {},
   "outputs": [],
   "source": [
    "#Read the JSON file list for all CSV GZ files\n",
    "js_humana_list = json.load(open(\"./humana_file_list.json\", \"r\"))\n",
    "df_humana_list = pandas.DataFrame(js_humana_list[\"aaData\"])\n",
    "df_humana_list"
   ]
  },
  {
   "cell_type": "markdown",
   "id": "374fb1aa-29fd-40fa-ae90-8a289caff8b0",
   "metadata": {},
   "source": [
    "## Just curious, what is the total size of humana data in terabytes."
   ]
  },
  {
   "cell_type": "code",
   "execution_count": 9,
   "id": "0fabf975-422c-4ae7-a3db-64c7557cbfc2",
   "metadata": {},
   "outputs": [
    {
     "data": {
      "text/plain": [
       "48.852023459734"
      ]
     },
     "execution_count": 9,
     "metadata": {},
     "output_type": "execute_result"
    }
   ],
   "source": [
    "# Check total file size\n",
    "df_humana_list[\"size\"].sum() / 1e12"
   ]
  },
  {
   "cell_type": "markdown",
   "id": "445bd421-67d2-4088-b94c-e57c4ef884c4",
   "metadata": {},
   "source": [
    "## Download humana index files"
   ]
  },
  {
   "cell_type": "code",
   "execution_count": 10,
   "id": "0208cea9-ed8c-4343-88b5-ccb61aa2db1f",
   "metadata": {},
   "outputs": [],
   "source": [
    "# Only re-run this if you are refreshing the data.\n",
    "# This could be made faster by running parallel downloads, by submitting batch jobs,\n",
    "# but we did not want to risk getting our IP banned by the humana servers, so we downloaded sequentially.\n",
    "# It will take a several hours to pull these index files.\n",
    "\n",
    "# Uncomment these lines to re-run download of index files.\n",
    "# Set the path appropriately.\n",
    "df_humana_index_files = df_humana_list[df_humana_list.name.str.contains(\"index\")].sort_values(\"size\", ascending=False)\n",
    "for name in df_humana_index_files.name.tolist():\n",
    "    ! curl -s 'https://developers.humana.com/Resource/DownloadPCTFile?fileType=innetwork&fileName={name}' > /N/u/singrama/Carbonate/Documents/TIC/Richard_Exp/index_json/{name}"
   ]
  },
  {
   "cell_type": "markdown",
   "id": "cd48859b-976f-4707-9372-67402d955559",
   "metadata": {},
   "source": [
    "## Parse the index files.\n",
    "## Use multiprocessing to speed up task."
   ]
  },
  {
   "cell_type": "code",
   "execution_count": 9,
   "id": "a1f4ecbd-c0ac-4001-b4b3-43d71a73a593",
   "metadata": {},
   "outputs": [
    {
     "name": "stdout",
     "output_type": "stream",
     "text": [
      "/N/u/singrama/Carbonate/Documents/TIC/Richard_Exp/index_json/2022-07-24_CENTER-FOR-COSMETIC-AN_index.json\n",
      "CPU times: user 57.5 s, sys: 49.6 s, total: 1min 47s\n",
      "Wall time: 3min 37s\n"
     ]
    }
   ],
   "source": [
    "%%time\n",
    "#To get details of data table, in_network file & Allowed Amount Table\n",
    "\n",
    "def batch(iterable, size):\n",
    "    it = iter(iterable)\n",
    "    while item := list(itertools.islice(it, size)):\n",
    "        yield item\n",
    "\n",
    "\n",
    "def read_index(index_files):\n",
    "    plan_table = []\n",
    "    in_network_table = []\n",
    "    allowed_amount_table = []\n",
    "\n",
    "    for f in index_files:\n",
    "        try:\n",
    "            jo = json.load(open(f, \"rb\"))\n",
    "            for rs in jo[\"reporting_structure\"]:\n",
    "                _plan_table = []\n",
    "                for rp in rs[\"reporting_plans\"]:\n",
    "                    rp[\"fname\"] = f.name\n",
    "                    _plan_table.append(rp)\n",
    "                plan_table.extend(_plan_table)\n",
    "                in_network_table.append(\n",
    "                    {\n",
    "                        \"fname\": f.name,\n",
    "                        \"in_network_files\": [\n",
    "                            inf[\"location\"] for inf in rs[\"in_network_files\"]\n",
    "                        ],\n",
    "                    }\n",
    "                )\n",
    "                allowed_amount_table.append(\n",
    "                    {\n",
    "                        \"fname\": f.name,\n",
    "                        \"allowed_amount_file\": rs[\"allowed_amount_file\"][\"location\"],\n",
    "                    }\n",
    "                )\n",
    "        except:\n",
    "            # parse fails on a few files that are not well-formed json\n",
    "            # Note the failures and skip them.\n",
    "            print(f)\n",
    "            continue\n",
    "    return (plan_table, in_network_table, allowed_amount_table)\n",
    "\n",
    "\n",
    "# Change this to an appropriate location.\n",
    "humana_path = pathlib.Path(\"/N/u/singrama/Carbonate/Documents/TIC/Richard_Exp/index_json\")\n",
    "humana_index_files = humana_path.glob(\"*.json\")\n",
    "\n",
    "# Adjust this to be reasonable. Five cpus is reasonable on RED.\n",
    "# This will take 10-20 minutes to run.\n",
    "ncpus = 5\n",
    "batch_size = 100\n",
    "with Pool(ncpus) as p:\n",
    "    result = p.map(read_index, list(batch(list(humana_index_files), batch_size)))\n",
    "\n",
    "plan_table = []\n",
    "in_network_table = []\n",
    "allowed_amount_table = []\n",
    "\n",
    "for _pt, _in, _aa in result:\n",
    "    plan_table.extend(_pt)\n",
    "    in_network_table.extend(_in)\n",
    "    allowed_amount_table.extend(_aa)\n",
    "\n",
    "df_plan_table = pandas.DataFrame(plan_table)\n",
    "df_in_network_table = pandas.DataFrame(in_network_table)\n",
    "df_allowed_amount_table = pandas.DataFrame(allowed_amount_table)"
   ]
  },
  {
   "cell_type": "markdown",
   "id": "981f8d7c-88c3-413a-ac31-f5b325165303",
   "metadata": {},
   "source": [
    "## Get Indiana Plans (by EIN of Employer) and Download just those files."
   ]
  },
  {
   "cell_type": "code",
   "execution_count": 10,
   "id": "f522246e",
   "metadata": {},
   "outputs": [
    {
     "data": {
      "text/html": [
       "<div>\n",
       "<style scoped>\n",
       "    .dataframe tbody tr th:only-of-type {\n",
       "        vertical-align: middle;\n",
       "    }\n",
       "\n",
       "    .dataframe tbody tr th {\n",
       "        vertical-align: top;\n",
       "    }\n",
       "\n",
       "    .dataframe thead th {\n",
       "        text-align: right;\n",
       "    }\n",
       "</style>\n",
       "<table border=\"1\" class=\"dataframe\">\n",
       "  <thead>\n",
       "    <tr style=\"text-align: right;\">\n",
       "      <th></th>\n",
       "      <th>plan_name</th>\n",
       "      <th>plan_id_type</th>\n",
       "      <th>plan_id</th>\n",
       "      <th>plan_market_type</th>\n",
       "      <th>fname</th>\n",
       "    </tr>\n",
       "  </thead>\n",
       "  <tbody>\n",
       "    <tr>\n",
       "      <th>0</th>\n",
       "      <td>colorado-salt-products-ll_co-humana-npos-lfp-s...</td>\n",
       "      <td>ein</td>\n",
       "      <td>274515474</td>\n",
       "      <td>GROUP</td>\n",
       "      <td>2022-07-24_COLORADO-SALT-PRODUCTS-LL_index.json</td>\n",
       "    </tr>\n",
       "    <tr>\n",
       "      <th>1</th>\n",
       "      <td>antico-foods-llc_ga-humana-npos-lfp-19-copay-rx</td>\n",
       "      <td>ein</td>\n",
       "      <td>264136444</td>\n",
       "      <td>GROUP</td>\n",
       "      <td>2022-07-24_ANTICO-FOODS-LLC_index.json</td>\n",
       "    </tr>\n",
       "    <tr>\n",
       "      <th>2</th>\n",
       "      <td>unbridled-chicken-llc_ky-humana-npos-lfp-19-co...</td>\n",
       "      <td>ein</td>\n",
       "      <td>261735512</td>\n",
       "      <td>GROUP</td>\n",
       "      <td>2022-07-24_UNBRIDLED-CHICKEN-LLC_index.json</td>\n",
       "    </tr>\n",
       "    <tr>\n",
       "      <th>3</th>\n",
       "      <td>unbridled-chicken-llc_ky-humana-npos-lfp-19-ca...</td>\n",
       "      <td>ein</td>\n",
       "      <td>261735512</td>\n",
       "      <td>GROUP</td>\n",
       "      <td>2022-07-24_UNBRIDLED-CHICKEN-LLC_index.json</td>\n",
       "    </tr>\n",
       "    <tr>\n",
       "      <th>4</th>\n",
       "      <td>titan-delta-llc_la-humana-npos-lfp-19-hdhp</td>\n",
       "      <td>ein</td>\n",
       "      <td>813724813</td>\n",
       "      <td>GROUP</td>\n",
       "      <td>2022-07-24_TITAN-DELTA-LLC_index.json</td>\n",
       "    </tr>\n",
       "  </tbody>\n",
       "</table>\n",
       "</div>"
      ],
      "text/plain": [
       "                                           plan_name plan_id_type    plan_id  \\\n",
       "0  colorado-salt-products-ll_co-humana-npos-lfp-s...          ein  274515474   \n",
       "1    antico-foods-llc_ga-humana-npos-lfp-19-copay-rx          ein  264136444   \n",
       "2  unbridled-chicken-llc_ky-humana-npos-lfp-19-co...          ein  261735512   \n",
       "3  unbridled-chicken-llc_ky-humana-npos-lfp-19-ca...          ein  261735512   \n",
       "4         titan-delta-llc_la-humana-npos-lfp-19-hdhp          ein  813724813   \n",
       "\n",
       "  plan_market_type                                            fname  \n",
       "0            GROUP  2022-07-24_COLORADO-SALT-PRODUCTS-LL_index.json  \n",
       "1            GROUP           2022-07-24_ANTICO-FOODS-LLC_index.json  \n",
       "2            GROUP      2022-07-24_UNBRIDLED-CHICKEN-LLC_index.json  \n",
       "3            GROUP      2022-07-24_UNBRIDLED-CHICKEN-LLC_index.json  \n",
       "4            GROUP            2022-07-24_TITAN-DELTA-LLC_index.json  "
      ]
     },
     "execution_count": 10,
     "metadata": {},
     "output_type": "execute_result"
    }
   ],
   "source": [
    "#Check Plan Table\n",
    "df_plan_table.head()"
   ]
  },
  {
   "cell_type": "code",
   "execution_count": 17,
   "id": "ca96e287-1b3d-4451-823a-d0c0583a3c7f",
   "metadata": {
    "tags": []
   },
   "outputs": [],
   "source": [
    "# Function to match EINs from EINs from lists and Insurers\n",
    "def match_ein(con, df):\n",
    "    \"\"\"Search reference data for matching EIN\"\"\"\n",
    "    con.register(\"df\", df)\n",
    "    return qdf(\n",
    "        con,\n",
    "        \"\"\"\n",
    "        select distinct 'sec' as tag, df.plan_id, name, city, state from df join df_sec on df.plan_id = df_sec.ein\n",
    "        union\n",
    "        select distinct 'irs' as tag, df.plan_id, name, city, state from df join df_irs on df.plan_id = df_irs.ein\n",
    "        union\n",
    "        select distinct 'dol' as tag, df.plan_id, name, city, state from df join df_dol on df.plan_id = df_dol.ein\n",
    "        \"\"\",\n",
    "    )"
   ]
  },
  {
   "cell_type": "code",
   "execution_count": 18,
   "id": "9ee897d5-1003-434b-8834-7fe5ccfb61e1",
   "metadata": {
    "scrolled": true
   },
   "outputs": [],
   "source": [
    "# Match the EINs from SEC, IRS and DOLO Form 5500\n",
    "df_humana_match = match_ein(con, df_plan_table)"
   ]
  },
  {
   "cell_type": "code",
   "execution_count": 40,
   "id": "2157583c",
   "metadata": {},
   "outputs": [
    {
     "data": {
      "text/html": [
       "<div>\n",
       "<style scoped>\n",
       "    .dataframe tbody tr th:only-of-type {\n",
       "        vertical-align: middle;\n",
       "    }\n",
       "\n",
       "    .dataframe tbody tr th {\n",
       "        vertical-align: top;\n",
       "    }\n",
       "\n",
       "    .dataframe thead th {\n",
       "        text-align: right;\n",
       "    }\n",
       "</style>\n",
       "<table border=\"1\" class=\"dataframe\">\n",
       "  <thead>\n",
       "    <tr style=\"text-align: right;\">\n",
       "      <th></th>\n",
       "      <th>tag</th>\n",
       "      <th>plan_id</th>\n",
       "      <th>name</th>\n",
       "      <th>city</th>\n",
       "      <th>state</th>\n",
       "    </tr>\n",
       "  </thead>\n",
       "  <tbody>\n",
       "    <tr>\n",
       "      <th>1</th>\n",
       "      <td>sec</td>\n",
       "      <td>350472300</td>\n",
       "      <td>LINCOLN NATIONAL LIFE INSURANCE CO /IN/</td>\n",
       "      <td>FORT WAYNE</td>\n",
       "      <td>IN</td>\n",
       "    </tr>\n",
       "    <tr>\n",
       "      <th>312</th>\n",
       "      <td>irs</td>\n",
       "      <td>350868075</td>\n",
       "      <td>EVANSVILLE GOODWILL INDUSTRIES INC</td>\n",
       "      <td>EVANSVILLE</td>\n",
       "      <td>IN</td>\n",
       "    </tr>\n",
       "    <tr>\n",
       "      <th>313</th>\n",
       "      <td>irs</td>\n",
       "      <td>351022158</td>\n",
       "      <td>NEW HOPE SERVICES INC</td>\n",
       "      <td>JEFFERSONVLLE</td>\n",
       "      <td>IN</td>\n",
       "    </tr>\n",
       "    <tr>\n",
       "      <th>314</th>\n",
       "      <td>irs</td>\n",
       "      <td>351039028</td>\n",
       "      <td>CHRIST GOSPEL CHURCHES INTERNATIONAL INC</td>\n",
       "      <td>JEFFERSONVLLE</td>\n",
       "      <td>IN</td>\n",
       "    </tr>\n",
       "    <tr>\n",
       "      <th>315</th>\n",
       "      <td>irs</td>\n",
       "      <td>351103853</td>\n",
       "      <td>NEW ALBANY-FLOYD COUNTY PUBLIC LIBRARY</td>\n",
       "      <td>NEW ALBANY</td>\n",
       "      <td>IN</td>\n",
       "    </tr>\n",
       "    <tr>\n",
       "      <th>...</th>\n",
       "      <td>...</td>\n",
       "      <td>...</td>\n",
       "      <td>...</td>\n",
       "      <td>...</td>\n",
       "      <td>...</td>\n",
       "    </tr>\n",
       "    <tr>\n",
       "      <th>8531</th>\n",
       "      <td>dol</td>\n",
       "      <td>611267077</td>\n",
       "      <td>UNIQUE MANAGEMENT SERVICES, INC.</td>\n",
       "      <td>JEFFERSONVILLE</td>\n",
       "      <td>IN</td>\n",
       "    </tr>\n",
       "    <tr>\n",
       "      <th>8575</th>\n",
       "      <td>dol</td>\n",
       "      <td>351416288</td>\n",
       "      <td>HAFER PSC</td>\n",
       "      <td>EVANSVILLE</td>\n",
       "      <td>IN</td>\n",
       "    </tr>\n",
       "    <tr>\n",
       "      <th>8594</th>\n",
       "      <td>dol</td>\n",
       "      <td>351022158</td>\n",
       "      <td>NEW HOPE SERVICES, INC.</td>\n",
       "      <td>JEFFERSONVILLE</td>\n",
       "      <td>IN</td>\n",
       "    </tr>\n",
       "    <tr>\n",
       "      <th>8658</th>\n",
       "      <td>dol</td>\n",
       "      <td>351484237</td>\n",
       "      <td>SMITH CREEK, INC.</td>\n",
       "      <td>BORDEN</td>\n",
       "      <td>IN</td>\n",
       "    </tr>\n",
       "    <tr>\n",
       "      <th>8737</th>\n",
       "      <td>dol</td>\n",
       "      <td>351283130</td>\n",
       "      <td>H &amp; H SYSTEMS AND DESIGN HOLDING COMPANY</td>\n",
       "      <td>NEW ALBANY</td>\n",
       "      <td>IN</td>\n",
       "    </tr>\n",
       "  </tbody>\n",
       "</table>\n",
       "<p>170 rows × 5 columns</p>\n",
       "</div>"
      ],
      "text/plain": [
       "      tag    plan_id                                      name  \\\n",
       "1     sec  350472300   LINCOLN NATIONAL LIFE INSURANCE CO /IN/   \n",
       "312   irs  350868075        EVANSVILLE GOODWILL INDUSTRIES INC   \n",
       "313   irs  351022158                     NEW HOPE SERVICES INC   \n",
       "314   irs  351039028  CHRIST GOSPEL CHURCHES INTERNATIONAL INC   \n",
       "315   irs  351103853    NEW ALBANY-FLOYD COUNTY PUBLIC LIBRARY   \n",
       "...   ...        ...                                       ...   \n",
       "8531  dol  611267077          UNIQUE MANAGEMENT SERVICES, INC.   \n",
       "8575  dol  351416288                                 HAFER PSC   \n",
       "8594  dol  351022158                   NEW HOPE SERVICES, INC.   \n",
       "8658  dol  351484237                         SMITH CREEK, INC.   \n",
       "8737  dol  351283130  H & H SYSTEMS AND DESIGN HOLDING COMPANY   \n",
       "\n",
       "                city state  \n",
       "1         FORT WAYNE    IN  \n",
       "312       EVANSVILLE    IN  \n",
       "313    JEFFERSONVLLE    IN  \n",
       "314    JEFFERSONVLLE    IN  \n",
       "315       NEW ALBANY    IN  \n",
       "...              ...   ...  \n",
       "8531  JEFFERSONVILLE    IN  \n",
       "8575      EVANSVILLE    IN  \n",
       "8594  JEFFERSONVILLE    IN  \n",
       "8658          BORDEN    IN  \n",
       "8737      NEW ALBANY    IN  \n",
       "\n",
       "[170 rows x 5 columns]"
      ]
     },
     "execution_count": 40,
     "metadata": {},
     "output_type": "execute_result"
    }
   ],
   "source": [
    "# Find codes particular to state of Indiana\n",
    "df_humana_match.query(\"state=='IN'\")"
   ]
  },
  {
   "cell_type": "code",
   "execution_count": 20,
   "id": "cb26d754-31e6-4176-9fc7-81a895ebc536",
   "metadata": {},
   "outputs": [],
   "source": [
    "# Write out list of Indiana companies to file for reference in txt\n",
    "df_humana_match.query(\"state=='IN'\").to_csv(\n",
    "    \"humana_sample_indiana.txt\", index=False, sep=\"|\"\n",
    ")"
   ]
  },
  {
   "cell_type": "code",
   "execution_count": 60,
   "id": "0aae49f8-fee5-4d46-81b8-21d17a68633c",
   "metadata": {},
   "outputs": [
    {
     "data": {
      "text/plain": [
       "170"
      ]
     },
     "execution_count": 60,
     "metadata": {},
     "output_type": "execute_result"
    }
   ],
   "source": [
    "# Just get the plan_ids for Indiana\n",
    "indiana_plan_ids = df_humana_match.query(\"state=='IN'\").plan_id.to_list()\n",
    "len(indiana_plan_ids)"
   ]
  },
  {
   "cell_type": "code",
   "execution_count": 130,
   "id": "0f25ae29-4d25-45f5-9706-cafe4cdb9650",
   "metadata": {},
   "outputs": [],
   "source": [
    "#Get List of Plan Ids from Humana Data having EIN same as Indiana EINs\n",
    "indiana_plan_fnames = (\n",
    "    df_plan_table.query(\"plan_id.isin(@indiana_plan_ids)\").fname.unique().tolist()\n",
    ")"
   ]
  },
  {
   "cell_type": "code",
   "execution_count": 102,
   "id": "b92afc72",
   "metadata": {},
   "outputs": [
    {
     "data": {
      "text/html": [
       "<div>\n",
       "<style scoped>\n",
       "    .dataframe tbody tr th:only-of-type {\n",
       "        vertical-align: middle;\n",
       "    }\n",
       "\n",
       "    .dataframe tbody tr th {\n",
       "        vertical-align: top;\n",
       "    }\n",
       "\n",
       "    .dataframe thead th {\n",
       "        text-align: right;\n",
       "    }\n",
       "</style>\n",
       "<table border=\"1\" class=\"dataframe\">\n",
       "  <thead>\n",
       "    <tr style=\"text-align: right;\">\n",
       "      <th></th>\n",
       "      <th>plan_name</th>\n",
       "      <th>plan_id_type</th>\n",
       "      <th>plan_id</th>\n",
       "      <th>plan_market_type</th>\n",
       "      <th>fname</th>\n",
       "    </tr>\n",
       "  </thead>\n",
       "  <tbody>\n",
       "    <tr>\n",
       "      <th>0</th>\n",
       "      <td>colorado-salt-products-ll_co-humana-npos-lfp-s...</td>\n",
       "      <td>ein</td>\n",
       "      <td>274515474</td>\n",
       "      <td>GROUP</td>\n",
       "      <td>2022-07-24_COLORADO-SALT-PRODUCTS-LL_index.json</td>\n",
       "    </tr>\n",
       "    <tr>\n",
       "      <th>1</th>\n",
       "      <td>antico-foods-llc_ga-humana-npos-lfp-19-copay-rx</td>\n",
       "      <td>ein</td>\n",
       "      <td>264136444</td>\n",
       "      <td>GROUP</td>\n",
       "      <td>2022-07-24_ANTICO-FOODS-LLC_index.json</td>\n",
       "    </tr>\n",
       "    <tr>\n",
       "      <th>2</th>\n",
       "      <td>unbridled-chicken-llc_ky-humana-npos-lfp-19-co...</td>\n",
       "      <td>ein</td>\n",
       "      <td>261735512</td>\n",
       "      <td>GROUP</td>\n",
       "      <td>2022-07-24_UNBRIDLED-CHICKEN-LLC_index.json</td>\n",
       "    </tr>\n",
       "    <tr>\n",
       "      <th>3</th>\n",
       "      <td>unbridled-chicken-llc_ky-humana-npos-lfp-19-ca...</td>\n",
       "      <td>ein</td>\n",
       "      <td>261735512</td>\n",
       "      <td>GROUP</td>\n",
       "      <td>2022-07-24_UNBRIDLED-CHICKEN-LLC_index.json</td>\n",
       "    </tr>\n",
       "    <tr>\n",
       "      <th>4</th>\n",
       "      <td>titan-delta-llc_la-humana-npos-lfp-19-hdhp</td>\n",
       "      <td>ein</td>\n",
       "      <td>813724813</td>\n",
       "      <td>GROUP</td>\n",
       "      <td>2022-07-24_TITAN-DELTA-LLC_index.json</td>\n",
       "    </tr>\n",
       "    <tr>\n",
       "      <th>...</th>\n",
       "      <td>...</td>\n",
       "      <td>...</td>\n",
       "      <td>...</td>\n",
       "      <td>...</td>\n",
       "      <td>...</td>\n",
       "    </tr>\n",
       "    <tr>\n",
       "      <th>28893</th>\n",
       "      <td>accu-aire-mechanical-llc_tx-humana-npos-lfp-19...</td>\n",
       "      <td>ein</td>\n",
       "      <td>203251514</td>\n",
       "      <td>GROUP</td>\n",
       "      <td>2022-07-24_ACCU-AIRE-MECHANICAL-LLC_index.json</td>\n",
       "    </tr>\n",
       "    <tr>\n",
       "      <th>28894</th>\n",
       "      <td>accu-aire-mechanical-llc_tx-humana-npos-lfp-19...</td>\n",
       "      <td>ein</td>\n",
       "      <td>203251514</td>\n",
       "      <td>GROUP</td>\n",
       "      <td>2022-07-24_ACCU-AIRE-MECHANICAL-LLC_index.json</td>\n",
       "    </tr>\n",
       "    <tr>\n",
       "      <th>28895</th>\n",
       "      <td>accu-aire-mechanical-llc_tx-humana-npos-lfp-19...</td>\n",
       "      <td>ein</td>\n",
       "      <td>203251514</td>\n",
       "      <td>GROUP</td>\n",
       "      <td>2022-07-24_ACCU-AIRE-MECHANICAL-LLC_index.json</td>\n",
       "    </tr>\n",
       "    <tr>\n",
       "      <th>28896</th>\n",
       "      <td>lakeland-sports-center-inc_wi-humana-npos-lfp-...</td>\n",
       "      <td>ein</td>\n",
       "      <td>391224289</td>\n",
       "      <td>GROUP</td>\n",
       "      <td>2022-07-24_LAKELAND-SPORTS-CENTER-INC_index.json</td>\n",
       "    </tr>\n",
       "    <tr>\n",
       "      <th>28897</th>\n",
       "      <td>intercontinental-chemical_oh-humana-npos-lfp-1...</td>\n",
       "      <td>ein</td>\n",
       "      <td>930900466</td>\n",
       "      <td>GROUP</td>\n",
       "      <td>2022-07-24_INTERCONTINENTAL-CHEMICAL_index.json</td>\n",
       "    </tr>\n",
       "  </tbody>\n",
       "</table>\n",
       "<p>28898 rows × 5 columns</p>\n",
       "</div>"
      ],
      "text/plain": [
       "                                               plan_name plan_id_type  \\\n",
       "0      colorado-salt-products-ll_co-humana-npos-lfp-s...          ein   \n",
       "1        antico-foods-llc_ga-humana-npos-lfp-19-copay-rx          ein   \n",
       "2      unbridled-chicken-llc_ky-humana-npos-lfp-19-co...          ein   \n",
       "3      unbridled-chicken-llc_ky-humana-npos-lfp-19-ca...          ein   \n",
       "4             titan-delta-llc_la-humana-npos-lfp-19-hdhp          ein   \n",
       "...                                                  ...          ...   \n",
       "28893  accu-aire-mechanical-llc_tx-humana-npos-lfp-19...          ein   \n",
       "28894  accu-aire-mechanical-llc_tx-humana-npos-lfp-19...          ein   \n",
       "28895  accu-aire-mechanical-llc_tx-humana-npos-lfp-19...          ein   \n",
       "28896  lakeland-sports-center-inc_wi-humana-npos-lfp-...          ein   \n",
       "28897  intercontinental-chemical_oh-humana-npos-lfp-1...          ein   \n",
       "\n",
       "         plan_id plan_market_type  \\\n",
       "0      274515474            GROUP   \n",
       "1      264136444            GROUP   \n",
       "2      261735512            GROUP   \n",
       "3      261735512            GROUP   \n",
       "4      813724813            GROUP   \n",
       "...          ...              ...   \n",
       "28893  203251514            GROUP   \n",
       "28894  203251514            GROUP   \n",
       "28895  203251514            GROUP   \n",
       "28896  391224289            GROUP   \n",
       "28897  930900466            GROUP   \n",
       "\n",
       "                                                  fname  \n",
       "0       2022-07-24_COLORADO-SALT-PRODUCTS-LL_index.json  \n",
       "1                2022-07-24_ANTICO-FOODS-LLC_index.json  \n",
       "2           2022-07-24_UNBRIDLED-CHICKEN-LLC_index.json  \n",
       "3           2022-07-24_UNBRIDLED-CHICKEN-LLC_index.json  \n",
       "4                 2022-07-24_TITAN-DELTA-LLC_index.json  \n",
       "...                                                 ...  \n",
       "28893    2022-07-24_ACCU-AIRE-MECHANICAL-LLC_index.json  \n",
       "28894    2022-07-24_ACCU-AIRE-MECHANICAL-LLC_index.json  \n",
       "28895    2022-07-24_ACCU-AIRE-MECHANICAL-LLC_index.json  \n",
       "28896  2022-07-24_LAKELAND-SPORTS-CENTER-INC_index.json  \n",
       "28897   2022-07-24_INTERCONTINENTAL-CHEMICAL_index.json  \n",
       "\n",
       "[28898 rows x 5 columns]"
      ]
     },
     "execution_count": 102,
     "metadata": {},
     "output_type": "execute_result"
    }
   ],
   "source": [
    "#Display final EINs in Indiana\n",
    "df_plan_table"
   ]
  },
  {
   "cell_type": "code",
   "execution_count": 138,
   "id": "79733053",
   "metadata": {},
   "outputs": [],
   "source": [
    "# Just get the in-network files for Indiana\n",
    "indiana_in_network_urls_np = (\n",
    "    df_in_network_table.query(\"fname.isin(@indiana_plan_fnames_np)\")\n",
    "    .drop_duplicates(\"fname\")\n",
    "    .in_network_files.explode()\n",
    "    .unique()\n",
    "    .tolist()\n",
    ")"
   ]
  },
  {
   "cell_type": "code",
   "execution_count": 154,
   "id": "ca1dcf7c",
   "metadata": {
    "scrolled": true
   },
   "outputs": [
    {
     "data": {
      "text/html": [
       "<div>\n",
       "<style scoped>\n",
       "    .dataframe tbody tr th:only-of-type {\n",
       "        vertical-align: middle;\n",
       "    }\n",
       "\n",
       "    .dataframe tbody tr th {\n",
       "        vertical-align: top;\n",
       "    }\n",
       "\n",
       "    .dataframe thead th {\n",
       "        text-align: right;\n",
       "    }\n",
       "</style>\n",
       "<table border=\"1\" class=\"dataframe\">\n",
       "  <thead>\n",
       "    <tr style=\"text-align: right;\">\n",
       "      <th></th>\n",
       "      <th>FileName</th>\n",
       "    </tr>\n",
       "  </thead>\n",
       "  <tbody>\n",
       "    <tr>\n",
       "      <th>17710</th>\n",
       "      <td>https://prod-developers.humana.com/Resource/Do...</td>\n",
       "    </tr>\n",
       "  </tbody>\n",
       "</table>\n",
       "</div>"
      ],
      "text/plain": [
       "                                                FileName\n",
       "17710  https://prod-developers.humana.com/Resource/Do..."
      ]
     },
     "execution_count": 154,
     "metadata": {},
     "output_type": "execute_result"
    }
   ],
   "source": [
    "ontry = pd.DataFrame(indiana_in_network_urls, columns=['FileName'])\n",
    "ontry[ontry['FileName']=='https://prod-developers.humana.com/Resource/DownloadPCTFile?fileType=innetwork&fileName=2022-07-21_2_in-network-rates_000000017710.csv.gz']"
   ]
  },
  {
   "cell_type": "code",
   "execution_count": null,
   "id": "531033be",
   "metadata": {},
   "outputs": [],
   "source": [
    "https://prod-developers.humana.com/Resource/DownloadPCTFile?fileType=innetwork&fileName=2022-07-21_2_in-network-rates_000000017710.csv.gz"
   ]
  },
  {
   "cell_type": "code",
   "execution_count": 31,
   "id": "64531219-796e-41f4-9e1c-22dfbf9e36f7",
   "metadata": {},
   "outputs": [],
   "source": [
    "#filename to download from Humana url\n",
    "def get_fname(url):\n",
    "    \"\"\"return filename to download from Humana url\"\"\"\n",
    "    return parse_qs(urlparse(url).query)[\"fileName\"][0]"
   ]
  },
  {
   "cell_type": "code",
   "execution_count": null,
   "id": "ffc9392c-9735-4d82-8207-04f6ad4bcfb9",
   "metadata": {},
   "outputs": [],
   "source": [
    "# Download one at a time, otherwise the server blocks you.\n",
    "# The shell script produced below should be run from the command line.\n",
    "# To speed this up, submit the downloads in this file as separate jobs, \n",
    "# but be careful about getting blocked.  Otherwise it just takes a few days.\n",
    "# run from the terminal:\n",
    "\n",
    "# $ nohup ./get_humana_in_network.sh &\n",
    "\n",
    "scratch_dir = pathlib.Path(\"/set/your/path\")\n",
    "fout = open(\"get_humana_in_network.sh\", \"w\")\n",
    "for url in indiana_in_network_urls:\n",
    "    fname = get_fname(url)\n",
    "    outpath = scratch_dir / fname\n",
    "    fout.write(f\"curl -s '{url}' > {outpath}\\n\")\n",
    "fout.close()"
   ]
  },
  {
   "cell_type": "code",
   "execution_count": 32,
   "id": "b50e16ca",
   "metadata": {},
   "outputs": [],
   "source": [
    "#Get all the CSV files \n",
    "path = \"/N/project/TIC/Humana/indiana_sample/NPI_Sorted_Indiana_All\"\n",
    "csv_files = glob.glob(os.path.join(path, \"*.csv.gz\"))"
   ]
  },
  {
   "cell_type": "code",
   "execution_count": 33,
   "id": "9264d25d",
   "metadata": {},
   "outputs": [],
   "source": [
    "#Get Key from Value\n",
    "def get_key(val):\n",
    "    for key, value in my_dict.items():\n",
    "        if val == value:\n",
    "            return key"
   ]
  },
  {
   "cell_type": "code",
   "execution_count": 34,
   "id": "6643a750",
   "metadata": {},
   "outputs": [
    {
     "name": "stderr",
     "output_type": "stream",
     "text": [
      "100%|██████████| 31899/31899 [15:04<00:00, 35.25it/s] \n"
     ]
    }
   ],
   "source": [
    "#Get Required Billing Codes\n",
    "bl_dict = {}\n",
    "#Mention Billing Codes\n",
    "bl_code = ['99213','45378','73721','27130','80061','99285']\n",
    "# loop over the list of csv files\n",
    "for f in tqdm(csv_files): \n",
    "    # read the csv file \n",
    "    \n",
    "    df = pd.read_csv(f)\n",
    "    ounique_bl = list(df.billing_code.unique())\n",
    "\n",
    "    for bls in ounique_bl:\n",
    "        if bls in bl_code:\n",
    "            if bls in bl_dict.keys():\n",
    "                temp = df[df.billing_code == bls]\n",
    "                bl_dict[bls] = pd.concat([temp, bl_dict[bls]], axis=0)\n",
    "            else:\n",
    "                bl_dict[bls] = df[df.billing_code == bls]"
   ]
  },
  {
   "cell_type": "code",
   "execution_count": null,
   "id": "6190b2ec",
   "metadata": {},
   "outputs": [],
   "source": [
    "# Save to CSV \n",
    "for v in bl_dict.values():\n",
    "    billing_code = get_key(v)\n",
    "    pd.to_csv(\"Billing_Code_\" + billing_code + \".csv\" )"
   ]
  }
 ],
 "metadata": {
  "kernelspec": {
   "display_name": "Python 3 (ipykernel)",
   "language": "python",
   "name": "python3"
  },
  "language_info": {
   "codemirror_mode": {
    "name": "ipython",
    "version": 3
   },
   "file_extension": ".py",
   "mimetype": "text/x-python",
   "name": "python",
   "nbconvert_exporter": "python",
   "pygments_lexer": "ipython3",
   "version": "3.9.12"
  }
 },
 "nbformat": 4,
 "nbformat_minor": 5
}
